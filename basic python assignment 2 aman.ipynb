{
 "cells": [
  {
   "cell_type": "code",
   "execution_count": null,
   "id": "d74c48d0",
   "metadata": {},
   "outputs": [],
   "source": [
    "1.What are the two values of the Boolean data type? How do you write them?\n"
   ]
  },
  {
   "cell_type": "code",
   "execution_count": null,
   "id": "a8dec28b",
   "metadata": {},
   "outputs": [],
   "source": [
    "True and False, using capital T and F, with the rest of the word in lowercase\n",
    "\n"
   ]
  },
  {
   "cell_type": "code",
   "execution_count": null,
   "id": "f98a1ccd",
   "metadata": {},
   "outputs": [],
   "source": [
    "2. What are the three different types of Boolean operators?\n"
   ]
  },
  {
   "cell_type": "code",
   "execution_count": null,
   "id": "a5323a8e",
   "metadata": {},
   "outputs": [],
   "source": [
    "AND, OR, and NOT.\n",
    "\n"
   ]
  },
  {
   "cell_type": "code",
   "execution_count": null,
   "id": "bd8644c9",
   "metadata": {},
   "outputs": [],
   "source": [
    "3. Make a list of each Boolean operator's truth tables (i.e. every possible combination of Boolean values for the operator and what it evaluate ).\n"
   ]
  },
  {
   "cell_type": "code",
   "execution_count": null,
   "id": "13f9c006",
   "metadata": {},
   "outputs": [],
   "source": [
    "True and True is True.\n",
    "\n",
    "True and False is False.\n",
    "\n",
    "False and True is False.\n",
    "\n",
    "False and False is False.\n",
    "\n",
    "True or True is True.\n",
    "\n",
    "True or False is True.\n",
    "\n",
    "False or True is True.\n",
    "\n",
    "False or False is False.\n",
    "\n",
    "not True is False.\n",
    "\n",
    "not False is True."
   ]
  },
  {
   "cell_type": "code",
   "execution_count": null,
   "id": "8d945713",
   "metadata": {},
   "outputs": [],
   "source": [
    "4. What are the values of the following expressions?\n",
    "\n",
    "(5 > 4) and (3 == 5) not (5 > 4) (5 > 4) or (3 == 5) not ((5 > 4) or (3 == 5)) (True and True) and (True == False) (not False) or (not True)\n",
    "\n"
   ]
  },
  {
   "cell_type": "code",
   "execution_count": 1,
   "id": "e9f77573",
   "metadata": {},
   "outputs": [
    {
     "data": {
      "text/plain": [
       "False"
      ]
     },
     "execution_count": 1,
     "metadata": {},
     "output_type": "execute_result"
    }
   ],
   "source": [
    "(5 > 4) and (3 == 5)"
   ]
  },
  {
   "cell_type": "code",
   "execution_count": 2,
   "id": "90549301",
   "metadata": {},
   "outputs": [
    {
     "data": {
      "text/plain": [
       "False"
      ]
     },
     "execution_count": 2,
     "metadata": {},
     "output_type": "execute_result"
    }
   ],
   "source": [
    "not (5 > 4)\n"
   ]
  },
  {
   "cell_type": "code",
   "execution_count": 3,
   "id": "9cea14d3",
   "metadata": {},
   "outputs": [
    {
     "data": {
      "text/plain": [
       "True"
      ]
     },
     "execution_count": 3,
     "metadata": {},
     "output_type": "execute_result"
    }
   ],
   "source": [
    "(5 > 4) or (3 == 5)\n"
   ]
  },
  {
   "cell_type": "code",
   "execution_count": 4,
   "id": "6206f828",
   "metadata": {},
   "outputs": [
    {
     "data": {
      "text/plain": [
       "False"
      ]
     },
     "execution_count": 4,
     "metadata": {},
     "output_type": "execute_result"
    }
   ],
   "source": [
    "not ((5 > 4) or (3 == 5))\n"
   ]
  },
  {
   "cell_type": "code",
   "execution_count": 5,
   "id": "78f2fc81",
   "metadata": {},
   "outputs": [
    {
     "data": {
      "text/plain": [
       "False"
      ]
     },
     "execution_count": 5,
     "metadata": {},
     "output_type": "execute_result"
    }
   ],
   "source": [
    "(True and True) and (True == False)\n"
   ]
  },
  {
   "cell_type": "code",
   "execution_count": 6,
   "id": "274b4fe9",
   "metadata": {},
   "outputs": [
    {
     "data": {
      "text/plain": [
       "True"
      ]
     },
     "execution_count": 6,
     "metadata": {},
     "output_type": "execute_result"
    }
   ],
   "source": [
    "(not False) or (not True)\n"
   ]
  },
  {
   "cell_type": "code",
   "execution_count": null,
   "id": "f5cef1aa",
   "metadata": {},
   "outputs": [],
   "source": [
    "5. What are the six comparison operators?\n"
   ]
  },
  {
   "cell_type": "code",
   "execution_count": null,
   "id": "924b78c1",
   "metadata": {},
   "outputs": [],
   "source": [
    "==, !=, <, >, <=, and >=."
   ]
  },
  {
   "cell_type": "code",
   "execution_count": null,
   "id": "f9fece2f",
   "metadata": {},
   "outputs": [],
   "source": [
    "6. How do you tell the difference between the equal to and assignment operators?Describe a condition and when you would use one.\n"
   ]
  },
  {
   "cell_type": "code",
   "execution_count": null,
   "id": "994f13b1",
   "metadata": {},
   "outputs": [],
   "source": [
    "== is the equal to operator that compares two values and evaluates to a Boolean, while = is the assignment operator that stores a value in a variable.\n",
    "\n",
    "For example:-\n",
    "\n",
    "x=10 y=20 z=20\n",
    "\n",
    "(x==y) is False because we assigned different values to x and y.\n",
    "\n",
    "(y==z) is True because we assign equal values to y and z.\n",
    "\n",
    "A condition is an expression used in a flow control statement that evaluates to a Boolean value."
   ]
  },
  {
   "cell_type": "code",
   "execution_count": null,
   "id": "2eefff32",
   "metadata": {},
   "outputs": [],
   "source": [
    "7. Identify the three blocks in this code:\n",
    "\n",
    "    spam = 0\n",
    "if spam == 10:\n",
    "print('eggs')\n",
    "if spam > 5:\n",
    "print('bacon')\n",
    "else:\n",
    "print('ham')\n",
    "print('spam')\n",
    "print('spam')"
   ]
  },
  {
   "cell_type": "code",
   "execution_count": 8,
   "id": "7f8864b4",
   "metadata": {},
   "outputs": [
    {
     "name": "stdout",
     "output_type": "stream",
     "text": [
      "ham\n",
      "spam\n",
      "spam\n"
     ]
    }
   ],
   "source": [
    "spam = 0\n",
    "\n",
    "if spam==10:\n",
    "    print('eggs')\n",
    "if spam>5:\n",
    "    print('bacon')\n",
    "else:\n",
    "    print('ham')\n",
    "print('spam')\n",
    "print('spam')"
   ]
  },
  {
   "cell_type": "code",
   "execution_count": null,
   "id": "bf27e29e",
   "metadata": {},
   "outputs": [],
   "source": [
    "8. Write code that prints Hello if 1 is stored in spam, prints Howdy if 2 is stored in spam, and prints Greetings! if anything else is stored in spam.\n"
   ]
  },
  {
   "cell_type": "code",
   "execution_count": 13,
   "id": "b5729716",
   "metadata": {},
   "outputs": [
    {
     "name": "stdout",
     "output_type": "stream",
     "text": [
      "Enter Spam Value3\n",
      "Value of spam is 3\n",
      "Greetings!\n"
     ]
    }
   ],
   "source": [
    "spam = int(input(\"Enter Spam Value\"))\n",
    "\n",
    "print(f\"Value of spam is {spam}\")\n",
    "\n",
    "if spam==1:\n",
    "    print(\"Hello\")\n",
    "elif spam==2:\n",
    "    print(\"Howdy\")\n",
    "else:\n",
    "    print(\"Greetings!\")"
   ]
  },
  {
   "cell_type": "code",
   "execution_count": null,
   "id": "3bd0093b",
   "metadata": {},
   "outputs": [],
   "source": [
    "9.If your programme is stuck in an endless loop, what keys you’ll press?\n"
   ]
  },
  {
   "cell_type": "code",
   "execution_count": null,
   "id": "0d0ef532",
   "metadata": {},
   "outputs": [],
   "source": [
    "Press CTRL+C to stop a program stuck in an infinite loop."
   ]
  },
  {
   "cell_type": "code",
   "execution_count": null,
   "id": "6d67ad71",
   "metadata": {},
   "outputs": [],
   "source": [
    "10. How can you tell the difference between break and continue?\n"
   ]
  },
  {
   "cell_type": "code",
   "execution_count": 15,
   "id": "ddfc5ab4",
   "metadata": {},
   "outputs": [
    {
     "name": "stdout",
     "output_type": "stream",
     "text": [
      "0 is divisible by 5.\n",
      "1 is not divisible by 5.\n",
      "2 is not divisible by 5.\n",
      "3 is not divisible by 5.\n",
      "4 is not divisible by 5.\n",
      "5 is divisible by 5.\n",
      "6 is not divisible by 5.\n",
      "7 is not divisible by 5.\n",
      "8 is not divisible by 5.\n",
      "9 is not divisible by 5.\n",
      "10 is divisible by 5.\n",
      "11 is not divisible by 5.\n",
      "12 is not divisible by 5.\n",
      "13 is not divisible by 5.\n",
      "14 is not divisible by 5.\n",
      "15 is divisible by 5.\n",
      "16 is not divisible by 5.\n",
      "17 is not divisible by 5.\n",
      "18 is not divisible by 5.\n",
      "19 is not divisible by 5.\n",
      "20 is divisible by 5.\n"
     ]
    }
   ],
   "source": [
    "# print all numbers in range [0,20] and check if num is divisible by 5 \n",
    "# using while loop but without adding condition to while loop.\n",
    "\n",
    "num = 0 \n",
    "while True:\n",
    "    if num>20:\n",
    "        break\n",
    "    if num%5==0:\n",
    "        print(f\"{num} is divisible by 5.\")\n",
    "    else:\n",
    "        print(f\"{num} is not divisible by 5.\")\n",
    "\n",
    "    num += 1"
   ]
  },
  {
   "cell_type": "code",
   "execution_count": 16,
   "id": "bb4fa62d",
   "metadata": {},
   "outputs": [
    {
     "name": "stdout",
     "output_type": "stream",
     "text": [
      "I\n",
      " \n",
      "m\n",
      " \n",
      "f\n",
      "l\n",
      "n\n",
      "g\n",
      " \n",
      "l\n",
      "k\n",
      " \n",
      " \n",
      "k\n",
      "n\n",
      "g\n",
      " \n",
      "f\n",
      " \n",
      "h\n",
      "l\n",
      "l\n"
     ]
    }
   ],
   "source": [
    "# print all letters except vowels from string\n",
    "\n",
    "string = \"I am feeling like a king of hell\"\n",
    "\n",
    "for i in string:\n",
    "    if i=='a' or i=='e' or i=='i' or i=='o' or i=='u':\n",
    "        continue\n",
    "    print(i) \n"
   ]
  },
  {
   "cell_type": "code",
   "execution_count": null,
   "id": "e3980911",
   "metadata": {},
   "outputs": [],
   "source": [
    "11. In a for loop, what is the difference between range(10), range(0, 10), and range(0, 10, 1)?\n",
    "\n"
   ]
  },
  {
   "cell_type": "code",
   "execution_count": null,
   "id": "2a5c2997",
   "metadata": {},
   "outputs": [],
   "source": [
    "They all do the same thing. The range(10) call ranges from 0 up to (but not including) 10, range(0, 10) explicitly tells the loop to start at 0, and range(0, 10, 1) explicitly tells the loop to increase the variable by 1 on each iteration."
   ]
  },
  {
   "cell_type": "code",
   "execution_count": 17,
   "id": "28640f90",
   "metadata": {},
   "outputs": [
    {
     "name": "stdout",
     "output_type": "stream",
     "text": [
      "0\n",
      "1\n",
      "2\n",
      "3\n",
      "4\n",
      "5\n",
      "6\n",
      "7\n",
      "8\n",
      "9\n"
     ]
    }
   ],
   "source": [
    "for i in range(10):\n",
    "    print(i)"
   ]
  },
  {
   "cell_type": "code",
   "execution_count": 18,
   "id": "ea96bba2",
   "metadata": {},
   "outputs": [
    {
     "name": "stdout",
     "output_type": "stream",
     "text": [
      "0\n",
      "1\n",
      "2\n",
      "3\n",
      "4\n",
      "5\n",
      "6\n",
      "7\n",
      "8\n",
      "9\n"
     ]
    }
   ],
   "source": [
    "for i in range(0, 10):\n",
    "    print(i)"
   ]
  },
  {
   "cell_type": "code",
   "execution_count": 19,
   "id": "987e5508",
   "metadata": {},
   "outputs": [
    {
     "name": "stdout",
     "output_type": "stream",
     "text": [
      "0\n",
      "1\n",
      "2\n",
      "3\n",
      "4\n",
      "5\n",
      "6\n",
      "7\n",
      "8\n",
      "9\n"
     ]
    }
   ],
   "source": [
    "for i in range(0, 10, 1):\n",
    "    print(i)"
   ]
  },
  {
   "cell_type": "code",
   "execution_count": null,
   "id": "4c59cf73",
   "metadata": {},
   "outputs": [],
   "source": [
    "12. Write a short program that prints the numbers 1 to 10 using a for loop. Then write an equivalent program that prints the numbers 1 to 10 using a while loop.\n"
   ]
  },
  {
   "cell_type": "code",
   "execution_count": 20,
   "id": "bff72075",
   "metadata": {},
   "outputs": [
    {
     "name": "stdout",
     "output_type": "stream",
     "text": [
      "1\n",
      "2\n",
      "3\n",
      "4\n",
      "5\n",
      "6\n",
      "7\n",
      "8\n",
      "9\n",
      "10\n"
     ]
    }
   ],
   "source": [
    "for i in range(1, 11):\n",
    "    print(i)"
   ]
  },
  {
   "cell_type": "code",
   "execution_count": 21,
   "id": "5ab33b5d",
   "metadata": {},
   "outputs": [
    {
     "name": "stdout",
     "output_type": "stream",
     "text": [
      "1\n",
      "2\n",
      "3\n",
      "4\n",
      "5\n",
      "6\n",
      "7\n",
      "8\n",
      "9\n",
      "10\n"
     ]
    }
   ],
   "source": [
    "i = 1\n",
    "while i <= 10:\n",
    "    print(i)\n",
    "    i = i + 1"
   ]
  },
  {
   "cell_type": "code",
   "execution_count": null,
   "id": "440a370d",
   "metadata": {},
   "outputs": [],
   "source": [
    "13. If you had a function named bacon() inside a module named spam, how would you call it after importing spam?\n"
   ]
  },
  {
   "cell_type": "code",
   "execution_count": null,
   "id": "d4e7d675",
   "metadata": {},
   "outputs": [],
   "source": [
    "This function can be called with spam.bacon()."
   ]
  }
 ],
 "metadata": {
  "kernelspec": {
   "display_name": "Python 3 (ipykernel)",
   "language": "python",
   "name": "python3"
  },
  "language_info": {
   "codemirror_mode": {
    "name": "ipython",
    "version": 3
   },
   "file_extension": ".py",
   "mimetype": "text/x-python",
   "name": "python",
   "nbconvert_exporter": "python",
   "pygments_lexer": "ipython3",
   "version": "3.9.7"
  }
 },
 "nbformat": 4,
 "nbformat_minor": 5
}
